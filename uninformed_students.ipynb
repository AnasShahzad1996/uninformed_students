{
 "cells": [
  {
   "cell_type": "markdown",
   "metadata": {},
   "source": [
    "# Medical Anomaly Detection Seminar\n"
   ]
  },
  {
   "cell_type": "markdown",
   "metadata": {},
   "source": [
    "#### This file contains the code for the paper :\n",
    "#### Uninformed Students: Student–Teacher Anomaly Detection with Discriminative Latent Embeddings\n",
    "#### by Paul Bergmann, Michael Fauser, David Sattlegger and Carsten Steger "
   ]
  },
  {
   "cell_type": "markdown",
   "metadata": {},
   "source": [
    "### Group members : Anas Shahzad, Wenhao Hu and Yuhan Li"
   ]
  },
  {
   "cell_type": "code",
   "execution_count": null,
   "metadata": {
    "vscode": {
     "languageId": "plaintext"
    }
   },
   "outputs": [],
   "source": [
    "# Please comment the following cell if you dont want to execute it everytime\n",
    "! git init\n",
    "! git remote add origin https://github.com/compai-lab/d-mas-framework.git\n",
    "! git fetch\n",
    "! git checkout -t origin/main\n",
    "\n",
    "!pip install wandb \n",
    "!pip install monai\n",
    "!pip install pytorch-lightning\n",
    "!pip install pytorch_msssim\n",
    "!pip install pystrum"
   ]
  },
  {
   "cell_type": "code",
   "execution_count": null,
   "metadata": {
    "vscode": {
     "languageId": "plaintext"
    }
   },
   "outputs": [],
   "source": [
    "# This downloads the dataset from the respective website\n",
    "! wget https://www.mydrive.ch/shares/38536/3830184030e49fe74747669442f0f282/download/420938113-1629952094/mvtec_anomaly_detection.tar.xz -P /dataset\n"
   ]
  },
  {
   "cell_type": "code",
   "execution_count": null,
   "metadata": {
    "vscode": {
     "languageId": "plaintext"
    }
   },
   "outputs": [],
   "source": []
  }
 ],
 "metadata": {
  "language_info": {
   "name": "python"
  },
  "orig_nbformat": 4
 },
 "nbformat": 4,
 "nbformat_minor": 2
}
